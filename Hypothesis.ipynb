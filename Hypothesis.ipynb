{
 "cells": [
  {
   "cell_type": "markdown",
   "id": "aa6b336b",
   "metadata": {},
   "source": [
    "<p style=\"font-family: Arials; line-height: 2; font-size: 25px; font-weight: bold; letter-spacing: 2px; text-align: center; color:#FF00C1\">Hypothesis Testing for Breast Cancer Survey</p>"
   ]
  },
  {
   "cell_type": "markdown",
   "id": "fc24ee65",
   "metadata": {},
   "source": [
    "![](https://images.pexels.com/photos/8385421/pexels-photo-8385421.jpeg?auto=compress&cs=tinysrgb&w=1260&h=750&dpr=1)"
   ]
  },
  {
   "cell_type": "markdown",
   "id": "dc2395f1",
   "metadata": {},
   "source": [
    "## Importing Libraries"
   ]
  },
  {
   "cell_type": "markdown",
   "id": "c5e90e80",
   "metadata": {},
   "source": [
    " !pip install pingouin"
   ]
  },
  {
   "cell_type": "code",
   "execution_count": 65,
   "id": "440a0289",
   "metadata": {},
   "outputs": [],
   "source": [
    "import pandas as pd\n",
    "import pingouin as pg\n",
    "import matplotlib.pyplot as plt\n",
    "import numpy as np\n",
    "from scipy.stats import t"
   ]
  },
  {
   "cell_type": "code",
   "execution_count": 19,
   "id": "55087054",
   "metadata": {},
   "outputs": [],
   "source": [
    "df = pd.read_csv('Downloads/hyp.csv')"
   ]
  },
  {
   "cell_type": "markdown",
   "id": "1dcc8252",
   "metadata": {},
   "source": [
    "### First Hypothesis : \"Does the Anxiety differ in terms of Marriage Status?\" \n",
    "H0: There is no difference betwween Marriage Status"
   ]
  },
  {
   "cell_type": "markdown",
   "id": "69b7a581",
   "metadata": {},
   "source": [
    "HA :There is difference betwween Marriage Status"
   ]
  },
  {
   "cell_type": "code",
   "execution_count": 22,
   "id": "45f5d74d",
   "metadata": {},
   "outputs": [
    {
     "data": {
      "text/plain": [
       "Text(0.5, 1.0, 'Dist. of Anxiety Scores')"
      ]
     },
     "execution_count": 22,
     "metadata": {},
     "output_type": "execute_result"
    },
    {
     "data": {
      "image/png": "[encoded data removed]",
      "text/plain": [
       "<Figure size 640x480 with 1 Axes>"
      ]
     },
     "metadata": {},
     "output_type": "display_data"
    }
   ],
   "source": [
    "#Check the distribution of Anxiety Scores\n",
    "plt.hist(x= 'Anxiety Score' , data =df)\n",
    "plt.title('Dist. of Anxiety Scores')"
   ]
  },
  {
   "cell_type": "markdown",
   "id": "797b4249",
   "metadata": {},
   "source": [
    " - We must remove the 0 scores"
   ]
  },
  {
   "cell_type": "code",
   "execution_count": 23,
   "id": "be9e893a",
   "metadata": {},
   "outputs": [],
   "source": [
    "#Removing 0 scores\n",
    "anxiety = df[df['Anxiety Score'] >0]"
   ]
  },
  {
   "cell_type": "code",
   "execution_count": 42,
   "id": "132ece3d",
   "metadata": {},
   "outputs": [
    {
     "name": "stdout",
     "output_type": "stream",
     "text": [
      "Fail to Reject H0 - There is no difference between marriage status in anxiety.\n"
     ]
    }
   ],
   "source": [
    "#Set the significance level\n",
    "alpha = 0.05\n",
    "\n",
    "#Generate an anova hypothesis test\n",
    "anova =pg.anova(data =anxiety, dv = 'Anxiety Score',between = 'Marriage')\n",
    "\n",
    "#Make a variable for p value\n",
    "pval = hyp1['p-unc'].values\n",
    "\n",
    "#The Result\n",
    "if pval > alpha:\n",
    "    print('Fail to Reject H0 - There is no difference between marriage status in anxiety.')\n",
    "if pval < alpha:\n",
    "    print('Reject H0 - There is no difference between marriage status in anxiety .')"
   ]
  },
  {
   "cell_type": "markdown",
   "id": "ae186921",
   "metadata": {},
   "source": [
    "- From the last output , we can see that the anxiety for breast cancer patients does not differ across the marriage status"
   ]
  },
  {
   "cell_type": "markdown",
   "id": "93c73cb3",
   "metadata": {},
   "source": [
    "### Second Hypothesis : \"Are Anxiety and Depression independent ?\" \n",
    "H0 : Anxiety and Depression are independent"
   ]
  },
  {
   "cell_type": "markdown",
   "id": "f6632371",
   "metadata": {},
   "source": [
    "HA :  Anxiety and Depression are not independent"
   ]
  },
  {
   "cell_type": "code",
   "execution_count": 43,
   "id": "3b74be12",
   "metadata": {},
   "outputs": [
    {
     "name": "stdout",
     "output_type": "stream",
     "text": [
      "Reject H0 -  Anxiety and Depression are not independent.\n"
     ]
    },
    {
     "name": "stderr",
     "output_type": "stream",
     "text": [
      "C:\\Users\\laptop\\anaconda3\\lib\\site-packages\\pingouin\\contingency.py:150: UserWarning: Low count on observed frequencies.\n",
      "  warnings.warn(\"Low count on {} frequencies.\".format(name))\n",
      "C:\\Users\\laptop\\anaconda3\\lib\\site-packages\\pingouin\\contingency.py:150: UserWarning: Low count on expected frequencies.\n",
      "  warnings.warn(\"Low count on {} frequencies.\".format(name))\n",
      "C:\\Users\\laptop\\anaconda3\\lib\\site-packages\\scipy\\stats\\_stats_py.py:7169: RuntimeWarning: divide by zero encountered in power\n",
      "  terms = f_obs * ((f_obs / f_exp)**lambda_ - 1)\n",
      "C:\\Users\\laptop\\anaconda3\\lib\\site-packages\\scipy\\stats\\_stats_py.py:7169: RuntimeWarning: invalid value encountered in multiply\n",
      "  terms = f_obs * ((f_obs / f_exp)**lambda_ - 1)\n",
      "C:\\Users\\laptop\\anaconda3\\lib\\site-packages\\scipy\\stats\\_stats_py.py:7166: RuntimeWarning: divide by zero encountered in true_divide\n",
      "  terms = 2.0 * special.xlogy(f_exp, f_exp / f_obs)\n"
     ]
    }
   ],
   "source": [
    "#Generate a chi-square hypothesis test\n",
    "expected , observed , stats = pg.chi2_independence(x = 'Depression Score' , y = 'Anxiety Score' , data= df)\n",
    "\n",
    "#Make a variable for p value\n",
    "pval1 = stats[stats['test']== 'pearson']['pval'].values\n",
    "\n",
    "\n",
    "#The Result\n",
    "if pval1 > alpha:\n",
    "    print('Fail to Reject H0 - Anxiety and Depression are independent.')\n",
    "if pval1 < alpha:\n",
    "    print('Reject H0 -  Anxiety and Depression are not independent.')"
   ]
  },
  {
   "cell_type": "markdown",
   "id": "e87375f3",
   "metadata": {},
   "source": [
    "- There is a relationship betwwen Anxiety and depression"
   ]
  },
  {
   "cell_type": "code",
   "execution_count": 46,
   "id": "79cd7657",
   "metadata": {},
   "outputs": [
    {
     "data": {
      "text/plain": [
       "array([nan, '31~35', '>40', '36~40', '25~30', '18~23'], dtype=object)"
      ]
     },
     "execution_count": 46,
     "metadata": {},
     "output_type": "execute_result"
    }
   ],
   "source": [
    "df['Age'].unique()"
   ]
  },
  {
   "cell_type": "markdown",
   "id": "151734dd",
   "metadata": {},
   "source": [
    "### Third Hypothesis : \" Is the mean stress score for the age +40 greater than who are  36~40?\" \n",
    "H0 : The two means are the same\n"
   ]
  },
  {
   "cell_type": "markdown",
   "id": "9e54d81c",
   "metadata": {},
   "source": [
    "HA : The mean stress score for the age +40 greater than who are 36~40"
   ]
  },
  {
   "cell_type": "code",
   "execution_count": 69,
   "id": "0963428a",
   "metadata": {},
   "outputs": [
    {
     "name": "stdout",
     "output_type": "stream",
     "text": [
      "Fail to Reject H0 - The two means are the same.\n"
     ]
    }
   ],
   "source": [
    "#Selecting the two age groups\n",
    "age = df.query(\"Age in ('>40' , '36~40')\")\n",
    "#Grouping data with mean ,standard deviation and count\n",
    "xbar=age.groupby('Age')['Stress Score'].mean()\n",
    "std= age.groupby('Age')['Stress Score'].std()\n",
    "n =age.groupby('Age')['Stress Score'].count()\n",
    "\n",
    "#Calculating t-score\n",
    "numerator = xbar['>40'] - xbar['36~40']\n",
    "denominator = np.sqrt((std['>40']**2 /n['>40'])+ (std['36~40']**2 / n['36~40']))\n",
    "tscore = numerator/denominator\n",
    "\n",
    "#Calculating degrees of freedom\n",
    "dof = n['>40'] -n['36~40']\n",
    "\n",
    "#Calculating p-value\n",
    "pval2 = 1-t.cdf(tscore,df=dof)\n",
    "\n",
    "if pval2 > alpha:\n",
    "    print('Fail to Reject H0 - The two means are the same.')\n",
    "if pval2 < alpha:\n",
    "    print('Reject H0 -  The mean stress score for the age +40 greater than who are 36~40.')\n"
   ]
  },
  {
   "cell_type": "markdown",
   "id": "813e6ff2",
   "metadata": {},
   "source": [
    "- From the t-test above , we can say that the mean of the anxiety score for the two age brackets are the same"
   ]
  },
  {
   "cell_type": "markdown",
   "id": "05c04420",
   "metadata": {},
   "source": [
    "<p style=\"font-family: Arials; line-height: 2; font-size: 25px; font-weight: bold; letter-spacing: 2px; text-align: center; color:#FF00C1\">Thanks for reading this work!</p>"
   ]
  },
  {
   "cell_type": "raw",
   "id": "2c48c170",
   "metadata": {},
   "source": []
  }
 ],
 "metadata": {
  "kernelspec": {
   "display_name": "Python 3 (ipykernel)",
   "language": "python",
   "name": "python3"
  },
  "language_info": {
   "codemirror_mode": {
    "name": "ipython",
    "version": 3
   },
   "file_extension": ".py",
   "mimetype": "text/x-python",
   "name": "python",
   "nbconvert_exporter": "python",
   "pygments_lexer": "ipython3",
   "version": "3.9.13"
  }
 },
 "nbformat": 4,
 "nbformat_minor": 5
}
